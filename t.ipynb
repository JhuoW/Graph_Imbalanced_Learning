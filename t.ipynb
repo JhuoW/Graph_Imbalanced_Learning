{
 "cells": [
  {
   "cell_type": "code",
   "execution_count": 1,
   "metadata": {},
   "outputs": [],
   "source": [
    "import numpy as np"
   ]
  },
  {
   "cell_type": "code",
   "execution_count": 3,
   "metadata": {},
   "outputs": [
    {
     "data": {
      "text/plain": [
       "(array([0, 1, 2]), array([1, 0, 2]))"
      ]
     },
     "execution_count": 3,
     "metadata": {},
     "output_type": "execute_result"
    }
   ],
   "source": [
    "c = np.array([[False, True, False],\n",
    "              [True, False, False],\n",
    "              [False, False, True]])\n",
    "np.where(c == True)"
   ]
  },
  {
   "cell_type": "code",
   "execution_count": 4,
   "metadata": {},
   "outputs": [],
   "source": [
    "a = np.array([1,1,2,2,3])\n",
    "b = np.array([0,2,2,1,1])"
   ]
  },
  {
   "cell_type": "code",
   "execution_count": 5,
   "metadata": {},
   "outputs": [
    {
     "data": {
      "text/plain": [
       "array([False, False,  True, False, False])"
      ]
     },
     "execution_count": 5,
     "metadata": {},
     "output_type": "execute_result"
    }
   ],
   "source": [
    "a == b"
   ]
  },
  {
   "cell_type": "code",
   "execution_count": 12,
   "metadata": {},
   "outputs": [],
   "source": [
    "import torch\n",
    "from dataset import Planetoid\n",
    "import os.path as osp\n",
    "import torch_geometric.transforms as T\n",
    "import numpy as np\n",
    "name = 'Cora'\n",
    "path = osp.join('datasets', name)\n",
    "split = 'imbalance'\n",
    "imb_ratio = 10\n",
    "fix_minority = True\n",
    "\n",
    "dataset = Planetoid(path, name, split=split, imb_ratio= imb_ratio, fix_minority= fix_minority, transform = T.NormalizeFeatures())\n",
    "data = dataset[0]\n",
    "imb_cls_num_list = dataset.imb_cls_num_list\n",
    "# def get_idx_info(data, n_cls):\n",
    "#     train_mask = data.train_mask\n",
    "#     labels = data.y\n",
    "#     index_list = torch.arange(labels.shape[0])  # all node indices\n",
    "#     train_nodes_per_cls = []\n",
    "#     num_train_nodes_per_cls     = []\n",
    "#     for i in range(n_cls):\n",
    "#         cls_indices = index_list[((labels == i) & train_mask)] # all nodes idx with label i\n",
    "#         num_nodes_i = (labels[train_mask] == i).sum()\n",
    "#         train_nodes_per_cls.append(cls_indices)\n",
    "#         num_train_nodes_per_cls.append(int(num_nodes_i.item()))\n",
    "#     return train_nodes_per_cls, num_train_nodes_per_cls\n",
    "\n",
    "\n",
    "def balance_embedding(data, n_cls):\n",
    "    x, edge_index = data.x, data.edge_index\n",
    "    imb_train_mask = data.imb_train_mask\n",
    "    max_num = max(imb_cls_num_list)\n",
    "    imb_cls_num = n_cls // 2\n",
    "\n",
    "    upsamples = np.array(max_num - np.array(imb_cls_num_list)) # [ 0  0  0  0 18 18 18]\n",
    "    print(upsamples)\n",
    "\n",
    "\n"
   ]
  },
  {
   "cell_type": "code",
   "execution_count": 7,
   "metadata": {},
   "outputs": [
    {
     "data": {
      "text/plain": [
       "[20, 20, 20, 20, 2, 2, 2]"
      ]
     },
     "execution_count": 7,
     "metadata": {},
     "output_type": "execute_result"
    }
   ],
   "source": [
    "imb_cls_num_list"
   ]
  },
  {
   "cell_type": "code",
   "execution_count": 14,
   "metadata": {},
   "outputs": [],
   "source": [
    "a = torch.tensor([[20, 20, 20, 20, 2, 2, 2],\n",
    "                  [1,  2,  3,  4,  5,  6, 7]], dtype=torch.float)\n"
   ]
  },
  {
   "cell_type": "code",
   "execution_count": 15,
   "metadata": {},
   "outputs": [
    {
     "data": {
      "text/plain": [
       "tensor([[0.4981, 0.4981, 0.4981, 0.4981, 0.0498, 0.0498, 0.0498],\n",
       "        [0.0845, 0.1690, 0.2535, 0.3381, 0.4226, 0.5071, 0.5916]])"
      ]
     },
     "execution_count": 15,
     "metadata": {},
     "output_type": "execute_result"
    }
   ],
   "source": [
    "import torch.nn.functional as F\n",
    "\n",
    "F.normalize(a)"
   ]
  },
  {
   "cell_type": "code",
   "execution_count": 23,
   "metadata": {},
   "outputs": [
    {
     "data": {
      "text/plain": [
       "tensor([[0.4981, 0.4981, 0.4981, 0.4981, 0.0498, 0.0498, 0.0498],\n",
       "        [0.0845, 0.1690, 0.2535, 0.3381, 0.4226, 0.5071, 0.5916]])"
      ]
     },
     "execution_count": 23,
     "metadata": {},
     "output_type": "execute_result"
    }
   ],
   "source": [
    "a / np.linalg.norm(a, axis=1, ord=2, keepdims=True)"
   ]
  },
  {
   "cell_type": "code",
   "execution_count": 24,
   "metadata": {},
   "outputs": [
    {
     "data": {
      "text/plain": [
       "tensor([[20., 20., 20., 20.,  2.,  2.,  2.],\n",
       "        [ 1.,  2.,  3.,  4.,  5.,  6.,  7.]])"
      ]
     },
     "execution_count": 24,
     "metadata": {},
     "output_type": "execute_result"
    }
   ],
   "source": [
    "a"
   ]
  },
  {
   "cell_type": "code",
   "execution_count": 25,
   "metadata": {},
   "outputs": [
    {
     "data": {
      "text/plain": [
       "tensor([[1612.,  236.],\n",
       "        [ 236.,  140.]])"
      ]
     },
     "execution_count": 25,
     "metadata": {},
     "output_type": "execute_result"
    }
   ],
   "source": [
    "a@ a.t()"
   ]
  },
  {
   "cell_type": "code",
   "execution_count": 28,
   "metadata": {},
   "outputs": [
    {
     "data": {
      "text/plain": [
       "array([[ 5, 11],\n",
       "       [11, 25]])"
      ]
     },
     "execution_count": 28,
     "metadata": {},
     "output_type": "execute_result"
    }
   ],
   "source": [
    "b = np.array([[1,2], [3,4]])\n",
    "b @ b.transpose()"
   ]
  },
  {
   "cell_type": "code",
   "execution_count": 13,
   "metadata": {},
   "outputs": [],
   "source": [
    "A = np.array([[0.1, 0.3, 0.2, 0.7, 0.4], \n",
    "              [0.7, 0.5, 0.6, 0.5, 0.3],\n",
    "              [0.3, 0.2, 1.1, 0.1, 1.3],\n",
    "              [0.5, 0.3, 0.2, 0.7, 0.6],\n",
    "              [1.0, 2.2, 0.3, 0.6, 0.2]])\n",
    "\n",
    "np.fill_diagonal(A, 0)"
   ]
  },
  {
   "cell_type": "code",
   "execution_count": 14,
   "metadata": {},
   "outputs": [
    {
     "data": {
      "text/plain": [
       "array([[0. , 0.3, 0.2, 0.7, 0.4],\n",
       "       [0.7, 0. , 0.6, 0.5, 0.3],\n",
       "       [0.3, 0.2, 0. , 0.1, 1.3],\n",
       "       [0.5, 0.3, 0.2, 0. , 0.6],\n",
       "       [1. , 2.2, 0.3, 0.6, 0. ]])"
      ]
     },
     "execution_count": 14,
     "metadata": {},
     "output_type": "execute_result"
    }
   ],
   "source": [
    "A"
   ]
  },
  {
   "cell_type": "code",
   "execution_count": 15,
   "metadata": {},
   "outputs": [],
   "source": [
    "B = np.array([1,1,0,2,0])"
   ]
  },
  {
   "cell_type": "code",
   "execution_count": 16,
   "metadata": {},
   "outputs": [
    {
     "data": {
      "text/plain": [
       "tensor([[0.6500, 1.2000, 0.1500, 0.3500, 0.6500],\n",
       "        [0.3500, 0.1500, 0.4000, 0.6000, 0.3500],\n",
       "        [0.5000, 0.3000, 0.2000, 0.0000, 0.6000]], dtype=torch.float64)"
      ]
     },
     "execution_count": 16,
     "metadata": {},
     "output_type": "execute_result"
    }
   ],
   "source": [
    "from torch_scatter import scatter_mean\n",
    "scatter_mean(torch.from_numpy(A), torch.from_numpy(B), dim = 0)"
   ]
  },
  {
   "cell_type": "code",
   "execution_count": 19,
   "metadata": {},
   "outputs": [
    {
     "data": {
      "text/plain": [
       "tensor([  0,   1,   2,   3,   4,   5,   6,   7,   8,   9,  10,  11,  13,  14,\n",
       "         15,  16,  17,  18,  19,  20,  21,  23,  24,  25,  26,  27,  28,  30,\n",
       "         32,  34,  35,  36,  37,  40,  44,  45,  46,  48,  51,  52,  53,  54,\n",
       "         57,  58,  59,  60,  61,  62,  64,  65,  68,  71,  72,  73,  74,  79,\n",
       "         80,  81,  83,  85,  88,  90,  94,  95,  98, 100, 101, 102, 103, 104,\n",
       "        105, 109, 110, 111, 112, 121, 124, 126, 131, 133, 134, 135, 136, 137,\n",
       "        138, 139])"
      ]
     },
     "execution_count": 19,
     "metadata": {},
     "output_type": "execute_result"
    }
   ],
   "source": [
    "torch.LongTensor(torch.nonzero(data.imb_train_mask, as_tuple=True)[0])"
   ]
  },
  {
   "cell_type": "code",
   "execution_count": null,
   "metadata": {},
   "outputs": [],
   "source": []
  },
  {
   "cell_type": "code",
   "execution_count": 22,
   "metadata": {},
   "outputs": [],
   "source": [
    "sorted_indices = np.argsort(-A, axis=1)"
   ]
  },
  {
   "cell_type": "code",
   "execution_count": 2,
   "metadata": {},
   "outputs": [
    {
     "data": {
      "text/plain": [
       "{4: 2, 5: 3, 6: 2}"
      ]
     },
     "execution_count": 2,
     "metadata": {},
     "output_type": "execute_result"
    }
   ],
   "source": [
    "numbers_list = [4, 4, 5, 6, 6, 5,5]\n",
    "\n",
    "# Counting the frequency of each number using a dictionary\n",
    "frequency_dict = {}\n",
    "for number in numbers_list:\n",
    "    frequency_dict[number] = frequency_dict.get(number, 0) + 1\n",
    "\n",
    "frequency_dict"
   ]
  },
  {
   "cell_type": "code",
   "execution_count": 5,
   "metadata": {},
   "outputs": [
    {
     "data": {
      "text/plain": [
       "dict_keys([4, 5, 6])"
      ]
     },
     "execution_count": 5,
     "metadata": {},
     "output_type": "execute_result"
    }
   ],
   "source": [
    "frequency_dict.keys()"
   ]
  },
  {
   "cell_type": "code",
   "execution_count": 8,
   "metadata": {},
   "outputs": [
    {
     "data": {
      "text/plain": [
       "False"
      ]
     },
     "execution_count": 8,
     "metadata": {},
     "output_type": "execute_result"
    }
   ],
   "source": [
    "2 in frequency_dict.keys()"
   ]
  },
  {
   "cell_type": "code",
   "execution_count": 34,
   "metadata": {},
   "outputs": [
    {
     "data": {
      "text/plain": [
       "array([0, 1, 2, 3, 4])"
      ]
     },
     "execution_count": 34,
     "metadata": {},
     "output_type": "execute_result"
    }
   ],
   "source": [
    "np.unique(np.array(new_train_nodes))"
   ]
  },
  {
   "cell_type": "code",
   "execution_count": 12,
   "metadata": {},
   "outputs": [],
   "source": [
    "import numpy as np\n",
    "a = {4: 9, 5:9, 6:9}\n",
    "b = np.array([4,4,5,6,6,5])\n",
    "\n",
    "result = np.array([a[item] for item in b])"
   ]
  },
  {
   "cell_type": "code",
   "execution_count": 13,
   "metadata": {},
   "outputs": [
    {
     "data": {
      "text/plain": [
       "array([9, 9, 9, 9, 9, 9])"
      ]
     },
     "execution_count": 13,
     "metadata": {},
     "output_type": "execute_result"
    }
   ],
   "source": [
    "result"
   ]
  },
  {
   "cell_type": "code",
   "execution_count": 40,
   "metadata": {},
   "outputs": [],
   "source": [
    "c = np.array([31, 97, 65])"
   ]
  },
  {
   "cell_type": "code",
   "execution_count": 41,
   "metadata": {},
   "outputs": [],
   "source": [
    "data.imb_train_mask[c] = True"
   ]
  },
  {
   "cell_type": "code",
   "execution_count": 43,
   "metadata": {},
   "outputs": [
    {
     "data": {
      "text/plain": [
       "tensor(88)"
      ]
     },
     "execution_count": 43,
     "metadata": {},
     "output_type": "execute_result"
    }
   ],
   "source": [
    "data.imb_train_mask.sum()"
   ]
  },
  {
   "cell_type": "code",
   "execution_count": 44,
   "metadata": {},
   "outputs": [
    {
     "data": {
      "text/plain": [
       "tensor(88)"
      ]
     },
     "execution_count": 44,
     "metadata": {},
     "output_type": "execute_result"
    }
   ],
   "source": [
    "data.imb_train_mask.sum()"
   ]
  },
  {
   "cell_type": "code",
   "execution_count": 1,
   "metadata": {},
   "outputs": [
    {
     "data": {
      "text/plain": [
       "3"
      ]
     },
     "execution_count": 1,
     "metadata": {},
     "output_type": "execute_result"
    }
   ],
   "source": [
    "7//2"
   ]
  },
  {
   "cell_type": "code",
   "execution_count": 14,
   "metadata": {},
   "outputs": [],
   "source": [
    "a = np.array([[3,2,1], [5,6,1],[9,2,10]])"
   ]
  },
  {
   "cell_type": "code",
   "execution_count": 15,
   "metadata": {},
   "outputs": [],
   "source": [
    "sorted_indices = np.argsort(-a, axis=1)"
   ]
  },
  {
   "cell_type": "code",
   "execution_count": 16,
   "metadata": {},
   "outputs": [
    {
     "data": {
      "text/plain": [
       "array([[0, 1, 2],\n",
       "       [1, 0, 2],\n",
       "       [2, 0, 1]])"
      ]
     },
     "execution_count": 16,
     "metadata": {},
     "output_type": "execute_result"
    }
   ],
   "source": [
    "sorted_indices"
   ]
  },
  {
   "cell_type": "code",
   "execution_count": null,
   "metadata": {},
   "outputs": [],
   "source": [
    "import torch\n",
    "\n",
    "a = [torch.tensor([1,2,3]), torch.tensor([4,5,6]), torch.tensor([7,8,9])]"
   ]
  },
  {
   "cell_type": "code",
   "execution_count": null,
   "metadata": {},
   "outputs": [],
   "source": []
  }
 ],
 "metadata": {
  "kernelspec": {
   "display_name": "base",
   "language": "python",
   "name": "python3"
  },
  "language_info": {
   "codemirror_mode": {
    "name": "ipython",
    "version": 3
   },
   "file_extension": ".py",
   "mimetype": "text/x-python",
   "name": "python",
   "nbconvert_exporter": "python",
   "pygments_lexer": "ipython3",
   "version": "3.10.9"
  }
 },
 "nbformat": 4,
 "nbformat_minor": 2
}
